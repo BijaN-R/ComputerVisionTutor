{
 "cells": [
  {
   "cell_type": "code",
   "execution_count": 3,
   "metadata": {},
   "outputs": [],
   "source": [
    "import cv2\n",
    "import numpy as np\n",
    "from PIL import ImageGrab\n",
    "\n",
    "while True:\n",
    "\n",
    "    frame = np.array(ImageGrab.grab())\n",
    "\n",
    "    cv2.imshow('Screen', cv2.cvtColor(frame, cv2.COLOR_BGR2RGB))\n",
    "\n",
    "    if cv2.waitKey(1) & 0xFF == 27:\n",
    "        break\n",
    "\n",
    "cv2.destroyAllWindows()"
   ]
  },
  {
   "cell_type": "code",
   "execution_count": 4,
   "metadata": {},
   "outputs": [],
   "source": [
    "screenImage = ImageGrab.grab()\n",
    "screenImage.save('./images/ScreenShot-01.jpg')"
   ]
  },
  {
   "cell_type": "code",
   "execution_count": 6,
   "metadata": {},
   "outputs": [],
   "source": [
    "import cv2\n",
    "import numpy as np\n",
    "from PIL import ImageGrab\n",
    "\n",
    "while True:\n",
    "\n",
    "    frame = np.array(ImageGrab.grab(bbox=(1420, 0, 1920, 500)))\n",
    "\n",
    "    cv2.imshow('Screen', cv2.cvtColor(frame, cv2.COLOR_BGR2RGB))\n",
    "\n",
    "    if cv2.waitKey(1) & 0xFF == 27:\n",
    "        break\n",
    "\n",
    "cv2.destroyAllWindows()"
   ]
  }
 ],
 "metadata": {
  "kernelspec": {
   "display_name": "Python 3",
   "language": "python",
   "name": "python3"
  },
  "language_info": {
   "name": "python",
   "version": "3.10.0"
  },
  "orig_nbformat": 4
 },
 "nbformat": 4,
 "nbformat_minor": 2
}
