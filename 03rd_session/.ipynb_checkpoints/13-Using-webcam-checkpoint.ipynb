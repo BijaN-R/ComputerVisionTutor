{
 "cells": [
  {
   "cell_type": "code",
   "execution_count": 5,
   "metadata": {},
   "outputs": [],
   "source": [
    "import cv2\n",
    "\n",
    "cap = cv2.VideoCapture(0)\n",
    "\n",
    "while True:\n",
    "    ret, frame = cap.read()\n",
    "    cv2.imshow('Webcam', frame)\n",
    "\n",
    "    if cv2.waitKey(1) & 0xFF == 27:\n",
    "        break\n",
    "\n",
    "cap.release()\n",
    "cv2.destroyAllWindows()\n"
   ]
  },
  {
   "cell_type": "code",
   "execution_count": 1,
   "metadata": {},
   "outputs": [],
   "source": [
    "import cv2\n",
    "\n",
    "cap = cv2.VideoCapture('./Video/SPN_Eye_of_the_tiger.mp4')\n",
    "\n",
    "while True:\n",
    "    ret, frame = cap.read()\n",
    "    cv2.imshow('Video', frame)\n",
    "\n",
    "    if not ret:\n",
    "        break\n",
    "\n",
    "    if cv2.waitKey(1000//int(cap.get(cv2.CAP_PROP_FPS))) & 0xFF == 27:\n",
    "        break\n",
    "\n",
    "cap.release()\n",
    "cv2.destroyAllWindows()\n"
   ]
  },
  {
   "cell_type": "code",
   "execution_count": 3,
   "metadata": {},
   "outputs": [],
   "source": [
    "import cv2\n",
    "\n",
    "cap = cv2.VideoCapture('./Video/SPN_Eye_of_the_tiger.mp4')\n",
    "\n",
    "while True:\n",
    "    ret, frame = cap.read()\n",
    "    flipped = cv2.flip(frame, 1)\n",
    "    cv2.imshow('Video', flipped)\n",
    "\n",
    "    if not ret:\n",
    "        break\n",
    "\n",
    "    if cv2.waitKey(1000//int(cap.get(cv2.CAP_PROP_FPS))) & 0xFF == 27:\n",
    "        break\n",
    "\n",
    "cap.release()\n",
    "cv2.destroyAllWindows()\n"
   ]
  },
  {
   "cell_type": "code",
   "execution_count": 2,
   "metadata": {},
   "outputs": [],
   "source": [
    "import cv2\n",
    "import numpy as np\n",
    "\n",
    "cap = cv2.VideoCapture('./Video/SPN_Eye_of_the_tiger.mp4')\n",
    "\n",
    "while True:\n",
    "    ret, frame = cap.read()\n",
    "    height, width, _ = frame.shape\n",
    "    zeros = np.zeros([height, width], np.uint8)\n",
    "    B, G, R = cv2.split(frame)\n",
    "    image_green = cv2.merge([zeros, G, zeros])\n",
    "    image_red = cv2.merge([zeros, zeros, R])\n",
    "\n",
    "    cv2.imshow('Green', image_green)\n",
    "    cv2.imshow('Red', image_red)\n",
    "\n",
    "    if not ret:\n",
    "        break\n",
    "\n",
    "    if cv2.waitKey(1000//int(cap.get(cv2.CAP_PROP_FPS))) & 0xFF == 27:\n",
    "        break\n",
    "\n",
    "cap.release()\n",
    "cv2.destroyAllWindows()\n"
   ]
  }
 ],
 "metadata": {
  "kernelspec": {
   "display_name": "Python 3",
   "language": "python",
   "name": "python3"
  },
  "language_info": {
   "codemirror_mode": {
    "name": "ipython",
    "version": 3
   },
   "file_extension": ".py",
   "mimetype": "text/x-python",
   "name": "python",
   "nbconvert_exporter": "python",
   "pygments_lexer": "ipython3",
   "version": "3.10.0"
  },
  "orig_nbformat": 4
 },
 "nbformat": 4,
 "nbformat_minor": 2
}
