{
 "cells": [
  {
   "cell_type": "code",
   "execution_count": 1,
   "id": "45dbd1ee",
   "metadata": {},
   "outputs": [],
   "source": [
    "import cv2\n",
    "\n",
    "alpha_slider_max = 100\n",
    "title_window = 'Linear Blend'\n",
    "\n",
    "def OnTrackbar(vak):\n",
    "    alpha = val / alpha_slider_max\n",
    "    beta = 1.0 - alpha\n",
    "    dst = cv2.addWeighted(src1, alpha, src2, beta, 0.0)\n",
    "    cv2.imshow(title_window, dst)\n",
    "    \n",
    "src1 = cv2.imread('./images/Logo1.png')\n",
    "src1 = cv2.imread('./images/Logo2.png')\n",
    "\n",
    "cv2.namedWindow(title_window)\n",
    "trackbarName = 'Alpha'\n",
    "\n"
   ]
  }
 ],
 "metadata": {
  "kernelspec": {
   "display_name": "Python 3",
   "language": "python",
   "name": "python3"
  },
  "language_info": {
   "codemirror_mode": {
    "name": "ipython",
    "version": 3
   },
   "file_extension": ".py",
   "mimetype": "text/x-python",
   "name": "python",
   "nbconvert_exporter": "python",
   "pygments_lexer": "ipython3",
   "version": "3.10.0"
  }
 },
 "nbformat": 4,
 "nbformat_minor": 5
}
