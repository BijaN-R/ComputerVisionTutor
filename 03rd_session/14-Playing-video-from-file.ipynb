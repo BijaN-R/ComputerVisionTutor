{
 "cells": [
  {
   "cell_type": "code",
   "execution_count": 4,
   "metadata": {},
   "outputs": [
    {
     "name": "stdout",
     "output_type": "stream",
     "text": [
      "828601953.0\n"
     ]
    }
   ],
   "source": [
    "import cv2\n",
    "\n",
    "cap = cv2.VideoCapture('./Video/SPN_Eye_of_the_tiger.mp4')\n",
    "#print(cap.get(cv2.CAP_PROP_FOURCC))\n",
    "while True:\n",
    "    ret, frame = cap.read()\n",
    "    cv2.imshow('Video', frame)\n",
    "\n",
    "    if not ret:\n",
    "        print('Exiting ...')\n",
    "        break\n",
    "\n",
    "    if cv2.waitKey(1000//int(cap.get(cv2.CAP_PROP_FPS))) & 0xFF == 27:\n",
    "        break\n",
    "\n",
    "cap.release()\n",
    "cv2.destroyAllWindows()\n"
   ]
  },
  {
   "cell_type": "code",
   "execution_count": 3,
   "metadata": {},
   "outputs": [],
   "source": [
    "import cv2\n",
    "\n",
    "cap = cv2.VideoCapture('./Video/SPN_Eye_of_the_tiger.mp4')\n",
    "\n",
    "while True:\n",
    "    ret, frame = cap.read()\n",
    "    gray = cv2.cvtColor(frame, cv2.COLOR_BGR2GRAY)\n",
    "    cv2.imshow('Video', gray)\n",
    "\n",
    "    if not ret:\n",
    "        print('Exiting ...')\n",
    "        break\n",
    "\n",
    "    if cv2.waitKey(1000//int(cap.get(cv2.CAP_PROP_FPS))) & 0xFF == 27:\n",
    "        break\n",
    "\n",
    "cap.release()\n",
    "cv2.destroyAllWindows()\n"
   ]
  }
 ],
 "metadata": {
  "kernelspec": {
   "display_name": "Python 3",
   "language": "python",
   "name": "python3"
  },
  "language_info": {
   "codemirror_mode": {
    "name": "ipython",
    "version": 3
   },
   "file_extension": ".py",
   "mimetype": "text/x-python",
   "name": "python",
   "nbconvert_exporter": "python",
   "pygments_lexer": "ipython3",
   "version": "3.10.0"
  },
  "orig_nbformat": 4
 },
 "nbformat": 4,
 "nbformat_minor": 2
}
