{
 "cells": [
  {
   "cell_type": "code",
   "execution_count": 2,
   "metadata": {},
   "outputs": [
    {
     "data": {
      "image/png": "[encoded data removed]",
      "text/plain": [
       "<Figure size 648x360 with 3 Axes>"
      ]
     },
     "metadata": {
      "needs_background": "light"
     },
     "output_type": "display_data"
    }
   ],
   "source": [
    "import cv2\n",
    "import numpy as np\n",
    "import matplotlib.pyplot as plt\n",
    "\n",
    "input_image = np.array((\n",
    "    [0,0,0,0,0,0,0,0],\n",
    "    [0,255,255,255,0,0,0,255],\n",
    "    [0,255,255,255,0,0,0,0],\n",
    "    [0,255,255,255,0,255,0,0],\n",
    "    [0,0,255,0,0,0,0,0],\n",
    "    [0,0,255,0,0,255,255,0],\n",
    "    [0,255,0,255,0,0,255,0],\n",
    "    [0,255,255,255,0,0,0,0]\n",
    "), dtype='uint8')\n",
    "\n",
    "kernel = np.array((\n",
    "    [0,1,0],\n",
    "    [1,-1,1],\n",
    "    [0,1,0]\n",
    "), dtype='int')\n",
    "\n",
    "output_image = cv2.morphologyEx(input_image, cv2.MORPH_HITMISS, kernel)\n",
    "\n",
    "kernel = (kernel + 1) * 127\n",
    "kernel = np.uint8(kernel)\n",
    "\n",
    "plt.figure(figsize=[9, 5])\n",
    "plt.subplot(131);plt.imshow(input_image, cmap='gray');plt.title('Original');\n",
    "plt.subplot(132);plt.imshow(kernel,cmap='gray');plt.title('Kernel');\n",
    "plt.subplot(133);plt.imshow(output_image, cmap='gray');plt.title('Hit ot miss');\n"
   ]
  }
 ],
 "metadata": {
  "kernelspec": {
   "display_name": "Python 3",
   "language": "python",
   "name": "python3"
  },
  "language_info": {
   "codemirror_mode": {
    "name": "ipython",
    "version": 3
   },
   "file_extension": ".py",
   "mimetype": "text/x-python",
   "name": "python",
   "nbconvert_exporter": "python",
   "pygments_lexer": "ipython3",
   "version": "3.10.0"
  }
 },
 "nbformat": 4,
 "nbformat_minor": 2
}
