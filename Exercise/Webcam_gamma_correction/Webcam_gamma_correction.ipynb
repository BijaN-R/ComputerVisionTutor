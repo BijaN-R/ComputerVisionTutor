{
 "cells": [
  {
   "cell_type": "code",
   "execution_count": 17,
   "id": "dbdc4a91-e8fe-455d-9129-94d9a7988497",
   "metadata": {},
   "outputs": [],
   "source": [
    "import cv2\n",
    "import numpy as np\n",
    "\n",
    "gamma = 0.5\n",
    "cap = cv2.VideoCapture(0)\n",
    "lookup_table = np.empty((1, 256), np.uint8)\n",
    "\n",
    "for i in range(256):\n",
    "    lookup_table[0, i] = np.clip(pow(i/255.0, gamma)* 255.0, 0, 255)\n",
    "\n",
    "while True:\n",
    "    ret, frame = cap.read()\n",
    "    bright = cv2.LUT(frame, lookup_table)\n",
    "    cv2.imshow('Original', frame)\n",
    "    cv2.imshow('Brightened', bright)\n",
    "\n",
    "    if cv2.waitKey(1) & 0xFF == ord('q'):\n",
    "        break\n",
    "\n",
    "cap.release()\n",
    "cv2.destroyAllWindows()\n"
   ]
  }
 ],
 "metadata": {
  "kernelspec": {
   "display_name": "Python 3 (ipykernel)",
   "language": "python",
   "name": "python3"
  },
  "language_info": {
   "codemirror_mode": {
    "name": "ipython",
    "version": 3
   },
   "file_extension": ".py",
   "mimetype": "text/x-python",
   "name": "python",
   "nbconvert_exporter": "python",
   "pygments_lexer": "ipython3",
   "version": "3.10.4"
  }
 },
 "nbformat": 4,
 "nbformat_minor": 5
}
